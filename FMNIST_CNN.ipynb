{
 "cells": [
  {
   "cell_type": "code",
   "execution_count": 1,
   "id": "85042a7c",
   "metadata": {
    "executionInfo": {
     "elapsed": 7896,
     "status": "ok",
     "timestamp": 1740080508521,
     "user": {
      "displayName": "Daniel Yelamos",
      "userId": "15488581616951920799"
     },
     "user_tz": -60
    },
    "id": "85042a7c"
   },
   "outputs": [],
   "source": [
    "import torchvision\n",
    "import torch\n",
    "from torchvision import transforms, datasets\n",
    "import numpy as np\n",
    "import pandas as pd\n",
    "import random\n",
    "from pathlib import Path\n",
    "import matplotlib.pyplot as plt\n",
    "\n",
    "import torch.nn as nn\n",
    "import torch.nn.functional as F\n",
    "import torch.optim as optim\n",
    "import os\n"
   ]
  },
  {
   "cell_type": "code",
   "execution_count": 2,
   "id": "eiq8z8_j4WQ0",
   "metadata": {
    "executionInfo": {
     "elapsed": 7,
     "status": "ok",
     "timestamp": 1740081075140,
     "user": {
      "displayName": "Daniel Yelamos",
      "userId": "15488581616951920799"
     },
     "user_tz": -60
    },
    "id": "eiq8z8_j4WQ0"
   },
   "outputs": [],
   "source": [
    "current_path = os.getcwd()\n",
    "save_data_here = os.path.join(current_path, \"data_fmnist\")\n"
   ]
  },
  {
   "cell_type": "code",
   "execution_count": 3,
   "id": "3fa478c4",
   "metadata": {
    "executionInfo": {
     "elapsed": 227,
     "status": "ok",
     "timestamp": 1740081076324,
     "user": {
      "displayName": "Daniel Yelamos",
      "userId": "15488581616951920799"
     },
     "user_tz": -60
    },
    "id": "3fa478c4"
   },
   "outputs": [],
   "source": [
    "transforms = transforms.Compose([transforms.ToTensor(), transforms.Normalize((0.5,),(0.5,))])\n",
    "\n",
    "train_data = datasets.FashionMNIST(root = save_data_here, train = True, download = True, transform = transforms)\n",
    "test_data = datasets.FashionMNIST(root = save_data_here, train = False, download = True, transform = transforms)"
   ]
  },
  {
   "cell_type": "code",
   "execution_count": 4,
   "id": "ba2a5be8",
   "metadata": {
    "executionInfo": {
     "elapsed": 8,
     "status": "ok",
     "timestamp": 1740081179066,
     "user": {
      "displayName": "Daniel Yelamos",
      "userId": "15488581616951920799"
     },
     "user_tz": -60
    },
    "id": "ba2a5be8"
   },
   "outputs": [],
   "source": [
    "split = int((len(train_data)*0.8))\n",
    "\n",
    "train_set, eval_set = torch.utils.data.random_split(train_data,[split,len(train_data)-split])"
   ]
  },
  {
   "cell_type": "code",
   "execution_count": 5,
   "id": "283ef1e4",
   "metadata": {
    "executionInfo": {
     "elapsed": 2,
     "status": "ok",
     "timestamp": 1740081180844,
     "user": {
      "displayName": "Daniel Yelamos",
      "userId": "15488581616951920799"
     },
     "user_tz": -60
    },
    "id": "283ef1e4"
   },
   "outputs": [],
   "source": [
    "train_loader = torch.utils.data.DataLoader(train_set, batch_size = 64, shuffle = True)\n",
    "eval_loader = torch.utils.data.DataLoader(eval_set, batch_size = 64, shuffle = True)\n",
    "test_loader = torch.utils.data.DataLoader(test_data, batch_size = 64, shuffle = True)"
   ]
  },
  {
   "cell_type": "code",
   "execution_count": 6,
   "id": "53af8a4a-485d-4757-ac4b-5e022b617a0b",
   "metadata": {},
   "outputs": [
    {
     "name": "stdout",
     "output_type": "stream",
     "text": [
      "750\n",
      "torch.Size([64, 1, 28, 28])\n",
      "torch.Size([64])\n"
     ]
    }
   ],
   "source": [
    "counter=0\n",
    "print(len(train_loader))\n",
    "\n",
    "for batch in train_loader:\n",
    "    images, label = batch\n",
    "    print(images.size())\n",
    "    print(label.size())\n",
    "\n",
    "    break"
   ]
  },
  {
   "cell_type": "code",
   "execution_count": 7,
   "id": "1f93f1e0",
   "metadata": {
    "executionInfo": {
     "elapsed": 5,
     "status": "ok",
     "timestamp": 1740081182097,
     "user": {
      "displayName": "Daniel Yelamos",
      "userId": "15488581616951920799"
     },
     "user_tz": -60
    },
    "id": "1f93f1e0"
   },
   "outputs": [],
   "source": [
    "class Net(nn.Module):\n",
    "\n",
    "    def __init__(self):\n",
    "\n",
    "        super().__init__()\n",
    "        self.conv1 = nn.Conv2d(1,32, kernel_size = 3, stride=1, padding=1)     #PADDING=1 (32x28x28)   //PADDING=0output_size = ((H - kernel) / stride) + 1 = ((28 - 3)/1) + 1 = 26); 26x32=21632\n",
    "        self.conv2 = nn.Conv2d(32,64, kernel_size = 3, stride=1, padding=1)    #(64x28x28)\n",
    "        #max pool is included in forward process (64x14x14)\n",
    "        self.conv3 = nn.Conv2d(64,128, kernel_size = 3, stride=1, padding=1)   #(128x14x14)\n",
    "        self.conv4 = nn.Conv2d(128,256, kernel_size = 3, stride=1, padding=1)  #(256x14x14)\n",
    "        #another max pool --> (256x7x7)\n",
    "        self.fc1 = nn.Linear(256 * 7 * 7, 512)                            \n",
    "        self.fc2 = nn.Linear(512, 128)\n",
    "        self.fc3 = nn.Linear(128, 10)\n",
    "\n",
    "        #maxpool layers\n",
    "        self.pool = nn.MaxPool2d(2, 2)  # Reduces size by half\n",
    "\n",
    "        #dropout layers\n",
    "        self.dropout = nn.Dropout(0.5)  # 50% probability\n",
    "\n",
    "\n",
    "\n",
    "\n",
    "    def forward(self, x):\n",
    "\n",
    "        x = F.relu(self.conv1(x))\n",
    "        x = F.relu(self.conv2(x))\n",
    "        x = self.pool(x)\n",
    "        x = F.relu(self.conv3(x))\n",
    "        x = F.relu(self.conv4(x))\n",
    "        x = self.pool(x)\n",
    "        #print(x.size())\n",
    "\n",
    "        #x = torch.flatten(x,1)\n",
    "        #x = x.view(x.size(0), -1)\n",
    "        x = torch.flatten(x, 1)     #This option is the good one to run over bathcs, it does not flatten batch size whoch is 0 position\n",
    "        #print(x.size())\n",
    "        \n",
    "        x = F.relu(self.fc1(x))\n",
    "        x = self.dropout(x)\n",
    "        \n",
    "        x = F.relu(self.fc2(x))\n",
    "        x = self.dropout(x)\n",
    "\n",
    "        x = F.relu(self.fc3(x))\n",
    "\n",
    "\n",
    "        return  x"
   ]
  },
  {
   "cell_type": "code",
   "execution_count": 8,
   "id": "f1f84712",
   "metadata": {
    "executionInfo": {
     "elapsed": 17,
     "status": "ok",
     "timestamp": 1740081184059,
     "user": {
      "displayName": "Daniel Yelamos",
      "userId": "15488581616951920799"
     },
     "user_tz": -60
    },
    "id": "f1f84712"
   },
   "outputs": [],
   "source": [
    " fmodel = Net()"
   ]
  },
  {
   "cell_type": "code",
   "execution_count": null,
   "id": "6c795202-9cab-4e0a-89de-d90ec3a7662c",
   "metadata": {},
   "outputs": [],
   "source": [
    "import matplotlib.pyplot as plt\n",
    "\n",
    "# Get the kernels from conv1 layer (shape: [32, 1, 3, 3] for 32 filters of size 3x3)\n",
    "kernels = fmodel.conv1.weight.data.cpu().numpy()\n",
    "\n",
    "# Plot the first 32 kernels\n",
    "fig, axes = plt.subplots(4, 8, figsize=(12, 6))\n",
    "for i in range(32):\n",
    "    ax = axes[i // 8, i % 8]\n",
    "    ax.imshow(kernels[i, 0], cmap='gray')  # Plot the first (and only) channel of each kernel\n",
    "    ax.axis('off')\n",
    "plt.show()"
   ]
  },
  {
   "cell_type": "code",
   "execution_count": 9,
   "id": "16a33689",
   "metadata": {
    "colab": {
     "base_uri": "https://localhost:8080/"
    },
    "executionInfo": {
     "elapsed": 51,
     "status": "ok",
     "timestamp": 1740081184524,
     "user": {
      "displayName": "Daniel Yelamos",
      "userId": "15488581616951920799"
     },
     "user_tz": -60
    },
    "id": "16a33689",
    "outputId": "1f78ff97-0882-425e-d419-3317559fc684",
    "scrolled": true
   },
   "outputs": [
    {
     "ename": "RuntimeError",
     "evalue": "mat1 and mat2 shapes cannot be multiplied (256x49 and 12544x512)",
     "output_type": "error",
     "traceback": [
      "\u001b[0;31m---------------------------------------------------------------------------\u001b[0m",
      "\u001b[0;31mRuntimeError\u001b[0m                              Traceback (most recent call last)",
      "Cell \u001b[0;32mIn[9], line 3\u001b[0m\n\u001b[1;32m      1\u001b[0m x \u001b[38;5;241m=\u001b[39m train_set\u001b[38;5;241m.\u001b[39m\u001b[38;5;21m__getitem__\u001b[39m(\u001b[38;5;241m0\u001b[39m)\n\u001b[0;32m----> 3\u001b[0m fmodel(x[\u001b[38;5;241m0\u001b[39m])\n",
      "File \u001b[0;32m/opt/anaconda3/lib/python3.12/site-packages/torch/nn/modules/module.py:1739\u001b[0m, in \u001b[0;36mModule._wrapped_call_impl\u001b[0;34m(self, *args, **kwargs)\u001b[0m\n\u001b[1;32m   1737\u001b[0m     \u001b[38;5;28;01mreturn\u001b[39;00m \u001b[38;5;28mself\u001b[39m\u001b[38;5;241m.\u001b[39m_compiled_call_impl(\u001b[38;5;241m*\u001b[39margs, \u001b[38;5;241m*\u001b[39m\u001b[38;5;241m*\u001b[39mkwargs)  \u001b[38;5;66;03m# type: ignore[misc]\u001b[39;00m\n\u001b[1;32m   1738\u001b[0m \u001b[38;5;28;01melse\u001b[39;00m:\n\u001b[0;32m-> 1739\u001b[0m     \u001b[38;5;28;01mreturn\u001b[39;00m \u001b[38;5;28mself\u001b[39m\u001b[38;5;241m.\u001b[39m_call_impl(\u001b[38;5;241m*\u001b[39margs, \u001b[38;5;241m*\u001b[39m\u001b[38;5;241m*\u001b[39mkwargs)\n",
      "File \u001b[0;32m/opt/anaconda3/lib/python3.12/site-packages/torch/nn/modules/module.py:1750\u001b[0m, in \u001b[0;36mModule._call_impl\u001b[0;34m(self, *args, **kwargs)\u001b[0m\n\u001b[1;32m   1745\u001b[0m \u001b[38;5;66;03m# If we don't have any hooks, we want to skip the rest of the logic in\u001b[39;00m\n\u001b[1;32m   1746\u001b[0m \u001b[38;5;66;03m# this function, and just call forward.\u001b[39;00m\n\u001b[1;32m   1747\u001b[0m \u001b[38;5;28;01mif\u001b[39;00m \u001b[38;5;129;01mnot\u001b[39;00m (\u001b[38;5;28mself\u001b[39m\u001b[38;5;241m.\u001b[39m_backward_hooks \u001b[38;5;129;01mor\u001b[39;00m \u001b[38;5;28mself\u001b[39m\u001b[38;5;241m.\u001b[39m_backward_pre_hooks \u001b[38;5;129;01mor\u001b[39;00m \u001b[38;5;28mself\u001b[39m\u001b[38;5;241m.\u001b[39m_forward_hooks \u001b[38;5;129;01mor\u001b[39;00m \u001b[38;5;28mself\u001b[39m\u001b[38;5;241m.\u001b[39m_forward_pre_hooks\n\u001b[1;32m   1748\u001b[0m         \u001b[38;5;129;01mor\u001b[39;00m _global_backward_pre_hooks \u001b[38;5;129;01mor\u001b[39;00m _global_backward_hooks\n\u001b[1;32m   1749\u001b[0m         \u001b[38;5;129;01mor\u001b[39;00m _global_forward_hooks \u001b[38;5;129;01mor\u001b[39;00m _global_forward_pre_hooks):\n\u001b[0;32m-> 1750\u001b[0m     \u001b[38;5;28;01mreturn\u001b[39;00m forward_call(\u001b[38;5;241m*\u001b[39margs, \u001b[38;5;241m*\u001b[39m\u001b[38;5;241m*\u001b[39mkwargs)\n\u001b[1;32m   1752\u001b[0m result \u001b[38;5;241m=\u001b[39m \u001b[38;5;28;01mNone\u001b[39;00m\n\u001b[1;32m   1753\u001b[0m called_always_called_hooks \u001b[38;5;241m=\u001b[39m \u001b[38;5;28mset\u001b[39m()\n",
      "Cell \u001b[0;32mIn[7], line 40\u001b[0m, in \u001b[0;36mNet.forward\u001b[0;34m(self, x)\u001b[0m\n\u001b[1;32m     37\u001b[0m x \u001b[38;5;241m=\u001b[39m torch\u001b[38;5;241m.\u001b[39mflatten(x, \u001b[38;5;241m1\u001b[39m)\n\u001b[1;32m     38\u001b[0m \u001b[38;5;66;03m#print(x.size())\u001b[39;00m\n\u001b[0;32m---> 40\u001b[0m x \u001b[38;5;241m=\u001b[39m F\u001b[38;5;241m.\u001b[39mrelu(\u001b[38;5;28mself\u001b[39m\u001b[38;5;241m.\u001b[39mfc1(x))\n\u001b[1;32m     41\u001b[0m x \u001b[38;5;241m=\u001b[39m \u001b[38;5;28mself\u001b[39m\u001b[38;5;241m.\u001b[39mdropout(x)\n\u001b[1;32m     43\u001b[0m x \u001b[38;5;241m=\u001b[39m F\u001b[38;5;241m.\u001b[39mrelu(\u001b[38;5;28mself\u001b[39m\u001b[38;5;241m.\u001b[39mfc2(x))\n",
      "File \u001b[0;32m/opt/anaconda3/lib/python3.12/site-packages/torch/nn/modules/module.py:1739\u001b[0m, in \u001b[0;36mModule._wrapped_call_impl\u001b[0;34m(self, *args, **kwargs)\u001b[0m\n\u001b[1;32m   1737\u001b[0m     \u001b[38;5;28;01mreturn\u001b[39;00m \u001b[38;5;28mself\u001b[39m\u001b[38;5;241m.\u001b[39m_compiled_call_impl(\u001b[38;5;241m*\u001b[39margs, \u001b[38;5;241m*\u001b[39m\u001b[38;5;241m*\u001b[39mkwargs)  \u001b[38;5;66;03m# type: ignore[misc]\u001b[39;00m\n\u001b[1;32m   1738\u001b[0m \u001b[38;5;28;01melse\u001b[39;00m:\n\u001b[0;32m-> 1739\u001b[0m     \u001b[38;5;28;01mreturn\u001b[39;00m \u001b[38;5;28mself\u001b[39m\u001b[38;5;241m.\u001b[39m_call_impl(\u001b[38;5;241m*\u001b[39margs, \u001b[38;5;241m*\u001b[39m\u001b[38;5;241m*\u001b[39mkwargs)\n",
      "File \u001b[0;32m/opt/anaconda3/lib/python3.12/site-packages/torch/nn/modules/module.py:1750\u001b[0m, in \u001b[0;36mModule._call_impl\u001b[0;34m(self, *args, **kwargs)\u001b[0m\n\u001b[1;32m   1745\u001b[0m \u001b[38;5;66;03m# If we don't have any hooks, we want to skip the rest of the logic in\u001b[39;00m\n\u001b[1;32m   1746\u001b[0m \u001b[38;5;66;03m# this function, and just call forward.\u001b[39;00m\n\u001b[1;32m   1747\u001b[0m \u001b[38;5;28;01mif\u001b[39;00m \u001b[38;5;129;01mnot\u001b[39;00m (\u001b[38;5;28mself\u001b[39m\u001b[38;5;241m.\u001b[39m_backward_hooks \u001b[38;5;129;01mor\u001b[39;00m \u001b[38;5;28mself\u001b[39m\u001b[38;5;241m.\u001b[39m_backward_pre_hooks \u001b[38;5;129;01mor\u001b[39;00m \u001b[38;5;28mself\u001b[39m\u001b[38;5;241m.\u001b[39m_forward_hooks \u001b[38;5;129;01mor\u001b[39;00m \u001b[38;5;28mself\u001b[39m\u001b[38;5;241m.\u001b[39m_forward_pre_hooks\n\u001b[1;32m   1748\u001b[0m         \u001b[38;5;129;01mor\u001b[39;00m _global_backward_pre_hooks \u001b[38;5;129;01mor\u001b[39;00m _global_backward_hooks\n\u001b[1;32m   1749\u001b[0m         \u001b[38;5;129;01mor\u001b[39;00m _global_forward_hooks \u001b[38;5;129;01mor\u001b[39;00m _global_forward_pre_hooks):\n\u001b[0;32m-> 1750\u001b[0m     \u001b[38;5;28;01mreturn\u001b[39;00m forward_call(\u001b[38;5;241m*\u001b[39margs, \u001b[38;5;241m*\u001b[39m\u001b[38;5;241m*\u001b[39mkwargs)\n\u001b[1;32m   1752\u001b[0m result \u001b[38;5;241m=\u001b[39m \u001b[38;5;28;01mNone\u001b[39;00m\n\u001b[1;32m   1753\u001b[0m called_always_called_hooks \u001b[38;5;241m=\u001b[39m \u001b[38;5;28mset\u001b[39m()\n",
      "File \u001b[0;32m/opt/anaconda3/lib/python3.12/site-packages/torch/nn/modules/linear.py:125\u001b[0m, in \u001b[0;36mLinear.forward\u001b[0;34m(self, input)\u001b[0m\n\u001b[1;32m    124\u001b[0m \u001b[38;5;28;01mdef\u001b[39;00m \u001b[38;5;21mforward\u001b[39m(\u001b[38;5;28mself\u001b[39m, \u001b[38;5;28minput\u001b[39m: Tensor) \u001b[38;5;241m-\u001b[39m\u001b[38;5;241m>\u001b[39m Tensor:\n\u001b[0;32m--> 125\u001b[0m     \u001b[38;5;28;01mreturn\u001b[39;00m F\u001b[38;5;241m.\u001b[39mlinear(\u001b[38;5;28minput\u001b[39m, \u001b[38;5;28mself\u001b[39m\u001b[38;5;241m.\u001b[39mweight, \u001b[38;5;28mself\u001b[39m\u001b[38;5;241m.\u001b[39mbias)\n",
      "\u001b[0;31mRuntimeError\u001b[0m: mat1 and mat2 shapes cannot be multiplied (256x49 and 12544x512)"
     ]
    }
   ],
   "source": [
    "x = train_set.__getitem__(0)\n",
    "\n",
    "fmodel(x[0])\n",
    "\n",
    "#This gives error since we are not considering batches, therefore flattening function, flattens 7,7 leaving 256 unflattened\n",
    "#When looping over batches (64,256,7,7) the function flattens to (64, 12544)"
   ]
  },
  {
   "cell_type": "code",
   "execution_count": null,
   "id": "9c8e93fe",
   "metadata": {
    "executionInfo": {
     "elapsed": 3,
     "status": "ok",
     "timestamp": 1740079517374,
     "user": {
      "displayName": "Daniel Yelamos",
      "userId": "15488581616951920799"
     },
     "user_tz": -60
    },
    "id": "9c8e93fe"
   },
   "outputs": [],
   "source": []
  },
  {
   "cell_type": "code",
   "execution_count": null,
   "id": "cc63ce39",
   "metadata": {
    "executionInfo": {
     "elapsed": 3,
     "status": "ok",
     "timestamp": 1740081192217,
     "user": {
      "displayName": "Daniel Yelamos",
      "userId": "15488581616951920799"
     },
     "user_tz": -60
    },
    "id": "cc63ce39"
   },
   "outputs": [],
   "source": [
    "\n"
   ]
  },
  {
   "cell_type": "code",
   "execution_count": 10,
   "id": "fd3cd6a9",
   "metadata": {
    "executionInfo": {
     "elapsed": 5,
     "status": "ok",
     "timestamp": 1740081193841,
     "user": {
      "displayName": "Daniel Yelamos",
      "userId": "15488581616951920799"
     },
     "user_tz": -60
    },
    "id": "fd3cd6a9"
   },
   "outputs": [],
   "source": [
    "# optimizer = optim.SGD(fmodel.parameters(), lr = 0.01, momentum = 0.5)\n",
    "\n",
    "criterion = nn.CrossEntropyLoss()\n",
    "optimizer = optim.SGD(fmodel.parameters(), lr=0.001, momentum=0.9)"
   ]
  },
  {
   "cell_type": "code",
   "execution_count": 11,
   "id": "e85ca87f-d7bd-45de-89ae-d026f3be5bc3",
   "metadata": {},
   "outputs": [],
   "source": [
    "eval_losses = []\n",
    "train_losses = []"
   ]
  },
  {
   "cell_type": "code",
   "execution_count": 12,
   "id": "a9db46c8",
   "metadata": {
    "executionInfo": {
     "elapsed": 2,
     "status": "ok",
     "timestamp": 1740081376842,
     "user": {
      "displayName": "Daniel Yelamos",
      "userId": "15488581616951920799"
     },
     "user_tz": -60
    },
    "id": "a9db46c8"
   },
   "outputs": [],
   "source": [
    "\n",
    "def train(epoch):\n",
    "\n",
    "    global epoch_train_loss\n",
    "    global train_losses\n",
    "    train_counter = []\n",
    "    train_loss = []\n",
    "    epoch_train_loss = 0.0\n",
    "    save_model_here = os.path.join(current_path, \"RESULTADOS/fmodel.pth\")\n",
    "    fmodel.train() #no hay capas que desactivar\n",
    "\n",
    "    for batch_idx,data_target in enumerate(train_loader):\n",
    "        data,target = data_target\n",
    "        optimizer.zero_grad()\n",
    "        output = fmodel(data)\n",
    "        loss = criterion(output, target)\n",
    "        loss.backward()\n",
    "        optimizer.step()\n",
    "        epoch_train_loss += loss.item()\n",
    "        \n",
    "        if( batch_idx % 10 == 0):\n",
    "            print(\"Training epoch {}: [{}/{} ({:.0f}%)]\\tLoss: {:.6f}\".format(epoch, batch_idx*len(data), 48000, (batch_idx*len(data))/(len(train_set))*100, loss.item()))\n",
    "            train_loss.append(loss.item())\n",
    "            train_counter.append(batch_idx * len(data) + (epoch - 1) * len(train_set))\n",
    "            torch.save(fmodel.state_dict(), save_model_here)\n",
    "            torch.save(optimizer.state_dict(), save_model_here)\n",
    "            \n",
    "    epoch_train_loss /= len(train_loader)\n",
    "    train_losses.append(epoch_train_loss)\n"
   ]
  },
  {
   "cell_type": "code",
   "execution_count": 13,
   "id": "3979d021",
   "metadata": {
    "executionInfo": {
     "elapsed": 4,
     "status": "ok",
     "timestamp": 1740081382844,
     "user": {
      "displayName": "Daniel Yelamos",
      "userId": "15488581616951920799"
     },
     "user_tz": -60
    },
    "id": "3979d021"
   },
   "outputs": [],
   "source": [
    "def eval():\n",
    "\n",
    "    prediction_list = []\n",
    "    correct = 0\n",
    "    eval_loss = 0\n",
    "\n",
    "    fmodel.eval()\n",
    "\n",
    "    with torch.no_grad():\n",
    "        for data, target in eval_loader:\n",
    "            output = fmodel(data)\n",
    "#           prediction = output.max(1 , keepdim = True)[1]\n",
    "            prediction = output.argmax(dim=1, keepdim=True).squeeze()\n",
    "            prediction_list.append(prediction)\n",
    "            correct += (prediction == target).sum().item()\n",
    "\n",
    "            #loss summatory for Average loss\n",
    "            eval_loss += criterion(output, target)\n",
    "\n",
    "        accuracy = correct/12000\n",
    "        eval_loss /= len(eval_loader)\n",
    "        print(eval_loss)\n",
    "        eval_losses.append(eval_loss)\n",
    "\n",
    "        print(\"\\nEval: Average loss: {:.4f},\\tAccuracy: {}/{} ({:.0f}%)\".format(eval_loss, correct, len(eval_loader.dataset), accuracy * 100))\n"
   ]
  },
  {
   "cell_type": "code",
   "execution_count": 35,
   "id": "be803460",
   "metadata": {
    "colab": {
     "base_uri": "https://localhost:8080/",
     "height": 384
    },
    "executionInfo": {
     "elapsed": 5185,
     "status": "error",
     "timestamp": 1740079841372,
     "user": {
      "displayName": "Daniel Yelamos",
      "userId": "15488581616951920799"
     },
     "user_tz": -60
    },
    "id": "be803460",
    "outputId": "923e3925-bde4-4fb6-bd40-63ef159eb6a7",
    "scrolled": true
   },
   "outputs": [
    {
     "name": "stdout",
     "output_type": "stream",
     "text": [
      "Training epoch 1: [0/48000 (0%)]\tLoss: 0.329971\n",
      "Training epoch 1: [640/48000 (1%)]\tLoss: 0.405135\n",
      "Training epoch 1: [1280/48000 (3%)]\tLoss: 0.493786\n",
      "Training epoch 1: [1920/48000 (4%)]\tLoss: 0.294408\n",
      "Training epoch 1: [2560/48000 (5%)]\tLoss: 0.534906\n",
      "Training epoch 1: [3200/48000 (7%)]\tLoss: 0.301316\n",
      "Training epoch 1: [3840/48000 (8%)]\tLoss: 0.318311\n",
      "Training epoch 1: [4480/48000 (9%)]\tLoss: 0.243204\n",
      "Training epoch 1: [5120/48000 (11%)]\tLoss: 0.419888\n",
      "Training epoch 1: [5760/48000 (12%)]\tLoss: 0.158317\n",
      "Training epoch 1: [6400/48000 (13%)]\tLoss: 0.265122\n",
      "Training epoch 1: [7040/48000 (15%)]\tLoss: 0.280979\n",
      "Training epoch 1: [7680/48000 (16%)]\tLoss: 0.337290\n",
      "Training epoch 1: [8320/48000 (17%)]\tLoss: 0.177400\n",
      "Training epoch 1: [8960/48000 (19%)]\tLoss: 0.378501\n",
      "Training epoch 1: [9600/48000 (20%)]\tLoss: 0.386765\n",
      "Training epoch 1: [10240/48000 (21%)]\tLoss: 0.303876\n",
      "Training epoch 1: [10880/48000 (23%)]\tLoss: 0.272015\n",
      "Training epoch 1: [11520/48000 (24%)]\tLoss: 0.251527\n",
      "Training epoch 1: [12160/48000 (25%)]\tLoss: 0.311674\n",
      "Training epoch 1: [12800/48000 (27%)]\tLoss: 0.358488\n",
      "Training epoch 1: [13440/48000 (28%)]\tLoss: 0.291623\n",
      "Training epoch 1: [14080/48000 (29%)]\tLoss: 0.385681\n",
      "Training epoch 1: [14720/48000 (31%)]\tLoss: 0.339132\n",
      "Training epoch 1: [15360/48000 (32%)]\tLoss: 0.290224\n",
      "Training epoch 1: [16000/48000 (33%)]\tLoss: 0.220284\n",
      "Training epoch 1: [16640/48000 (35%)]\tLoss: 0.279885\n",
      "Training epoch 1: [17280/48000 (36%)]\tLoss: 0.301746\n",
      "Training epoch 1: [17920/48000 (37%)]\tLoss: 0.313174\n",
      "Training epoch 1: [18560/48000 (39%)]\tLoss: 0.326682\n",
      "Training epoch 1: [19200/48000 (40%)]\tLoss: 0.397176\n",
      "Training epoch 1: [19840/48000 (41%)]\tLoss: 0.409948\n",
      "Training epoch 1: [20480/48000 (43%)]\tLoss: 0.474379\n",
      "Training epoch 1: [21120/48000 (44%)]\tLoss: 0.141572\n",
      "Training epoch 1: [21760/48000 (45%)]\tLoss: 0.230557\n",
      "Training epoch 1: [22400/48000 (47%)]\tLoss: 0.271526\n",
      "Training epoch 1: [23040/48000 (48%)]\tLoss: 0.551663\n",
      "Training epoch 1: [23680/48000 (49%)]\tLoss: 0.298946\n",
      "Training epoch 1: [24320/48000 (51%)]\tLoss: 0.291074\n",
      "Training epoch 1: [24960/48000 (52%)]\tLoss: 0.374064\n",
      "Training epoch 1: [25600/48000 (53%)]\tLoss: 0.264714\n",
      "Training epoch 1: [26240/48000 (55%)]\tLoss: 0.403747\n",
      "Training epoch 1: [26880/48000 (56%)]\tLoss: 0.275680\n",
      "Training epoch 1: [27520/48000 (57%)]\tLoss: 0.376935\n",
      "Training epoch 1: [28160/48000 (59%)]\tLoss: 0.266503\n",
      "Training epoch 1: [28800/48000 (60%)]\tLoss: 0.264841\n",
      "Training epoch 1: [29440/48000 (61%)]\tLoss: 0.223900\n",
      "Training epoch 1: [30080/48000 (63%)]\tLoss: 0.219654\n",
      "Training epoch 1: [30720/48000 (64%)]\tLoss: 0.412342\n",
      "Training epoch 1: [31360/48000 (65%)]\tLoss: 0.394564\n",
      "Training epoch 1: [32000/48000 (67%)]\tLoss: 0.430132\n",
      "Training epoch 1: [32640/48000 (68%)]\tLoss: 0.373103\n",
      "Training epoch 1: [33280/48000 (69%)]\tLoss: 0.311986\n",
      "Training epoch 1: [33920/48000 (71%)]\tLoss: 0.346527\n",
      "Training epoch 1: [34560/48000 (72%)]\tLoss: 0.366261\n",
      "Training epoch 1: [35200/48000 (73%)]\tLoss: 0.292097\n",
      "Training epoch 1: [35840/48000 (75%)]\tLoss: 0.515711\n",
      "Training epoch 1: [36480/48000 (76%)]\tLoss: 0.309056\n",
      "Training epoch 1: [37120/48000 (77%)]\tLoss: 0.227998\n",
      "Training epoch 1: [37760/48000 (79%)]\tLoss: 0.209907\n",
      "Training epoch 1: [38400/48000 (80%)]\tLoss: 0.299385\n",
      "Training epoch 1: [39040/48000 (81%)]\tLoss: 0.365909\n",
      "Training epoch 1: [39680/48000 (83%)]\tLoss: 0.354090\n",
      "Training epoch 1: [40320/48000 (84%)]\tLoss: 0.407805\n",
      "Training epoch 1: [40960/48000 (85%)]\tLoss: 0.404617\n",
      "Training epoch 1: [41600/48000 (87%)]\tLoss: 0.272601\n",
      "Training epoch 1: [42240/48000 (88%)]\tLoss: 0.260320\n",
      "Training epoch 1: [42880/48000 (89%)]\tLoss: 0.339297\n",
      "Training epoch 1: [43520/48000 (91%)]\tLoss: 0.471177\n",
      "Training epoch 1: [44160/48000 (92%)]\tLoss: 0.325259\n",
      "Training epoch 1: [44800/48000 (93%)]\tLoss: 0.383054\n",
      "Training epoch 1: [45440/48000 (95%)]\tLoss: 0.337729\n",
      "Training epoch 1: [46080/48000 (96%)]\tLoss: 0.275267\n",
      "Training epoch 1: [46720/48000 (97%)]\tLoss: 0.320461\n",
      "Training epoch 1: [47360/48000 (99%)]\tLoss: 0.376780\n",
      "tensor(0.3151)\n",
      "\n",
      "Eval: Average loss: 0.3151,\tAccuracy: 10650/12000 (89%)\n",
      "Training epoch 2: [0/48000 (0%)]\tLoss: 0.417258\n",
      "Training epoch 2: [640/48000 (1%)]\tLoss: 0.376834\n",
      "Training epoch 2: [1280/48000 (3%)]\tLoss: 0.323190\n",
      "Training epoch 2: [1920/48000 (4%)]\tLoss: 0.407852\n",
      "Training epoch 2: [2560/48000 (5%)]\tLoss: 0.229254\n",
      "Training epoch 2: [3200/48000 (7%)]\tLoss: 0.456362\n",
      "Training epoch 2: [3840/48000 (8%)]\tLoss: 0.313054\n",
      "Training epoch 2: [4480/48000 (9%)]\tLoss: 0.409078\n",
      "Training epoch 2: [5120/48000 (11%)]\tLoss: 0.269421\n",
      "Training epoch 2: [5760/48000 (12%)]\tLoss: 0.260104\n",
      "Training epoch 2: [6400/48000 (13%)]\tLoss: 0.272214\n",
      "Training epoch 2: [7040/48000 (15%)]\tLoss: 0.456840\n",
      "Training epoch 2: [7680/48000 (16%)]\tLoss: 0.432790\n",
      "Training epoch 2: [8320/48000 (17%)]\tLoss: 0.384017\n",
      "Training epoch 2: [8960/48000 (19%)]\tLoss: 0.512753\n",
      "Training epoch 2: [9600/48000 (20%)]\tLoss: 0.317446\n",
      "Training epoch 2: [10240/48000 (21%)]\tLoss: 0.322616\n",
      "Training epoch 2: [10880/48000 (23%)]\tLoss: 0.243054\n",
      "Training epoch 2: [11520/48000 (24%)]\tLoss: 0.316246\n",
      "Training epoch 2: [12160/48000 (25%)]\tLoss: 0.274226\n",
      "Training epoch 2: [12800/48000 (27%)]\tLoss: 0.336494\n",
      "Training epoch 2: [13440/48000 (28%)]\tLoss: 0.228224\n",
      "Training epoch 2: [14080/48000 (29%)]\tLoss: 0.380728\n",
      "Training epoch 2: [14720/48000 (31%)]\tLoss: 0.421036\n",
      "Training epoch 2: [15360/48000 (32%)]\tLoss: 0.228450\n",
      "Training epoch 2: [16000/48000 (33%)]\tLoss: 0.471521\n",
      "Training epoch 2: [16640/48000 (35%)]\tLoss: 0.329169\n",
      "Training epoch 2: [17280/48000 (36%)]\tLoss: 0.494028\n",
      "Training epoch 2: [17920/48000 (37%)]\tLoss: 0.254890\n",
      "Training epoch 2: [18560/48000 (39%)]\tLoss: 0.242865\n",
      "Training epoch 2: [19200/48000 (40%)]\tLoss: 0.323768\n",
      "Training epoch 2: [19840/48000 (41%)]\tLoss: 0.276573\n",
      "Training epoch 2: [20480/48000 (43%)]\tLoss: 0.203576\n",
      "Training epoch 2: [21120/48000 (44%)]\tLoss: 0.406675\n",
      "Training epoch 2: [21760/48000 (45%)]\tLoss: 0.113593\n",
      "Training epoch 2: [22400/48000 (47%)]\tLoss: 0.358892\n",
      "Training epoch 2: [23040/48000 (48%)]\tLoss: 0.381342\n",
      "Training epoch 2: [23680/48000 (49%)]\tLoss: 0.350489\n",
      "Training epoch 2: [24320/48000 (51%)]\tLoss: 0.368696\n",
      "Training epoch 2: [24960/48000 (52%)]\tLoss: 0.410600\n",
      "Training epoch 2: [25600/48000 (53%)]\tLoss: 0.258971\n",
      "Training epoch 2: [26240/48000 (55%)]\tLoss: 0.184817\n",
      "Training epoch 2: [26880/48000 (56%)]\tLoss: 0.164569\n",
      "Training epoch 2: [27520/48000 (57%)]\tLoss: 0.399383\n",
      "Training epoch 2: [28160/48000 (59%)]\tLoss: 0.355774\n",
      "Training epoch 2: [28800/48000 (60%)]\tLoss: 0.444881\n",
      "Training epoch 2: [29440/48000 (61%)]\tLoss: 0.390920\n",
      "Training epoch 2: [30080/48000 (63%)]\tLoss: 0.319352\n",
      "Training epoch 2: [30720/48000 (64%)]\tLoss: 0.232106\n",
      "Training epoch 2: [31360/48000 (65%)]\tLoss: 0.301046\n",
      "Training epoch 2: [32000/48000 (67%)]\tLoss: 0.207926\n",
      "Training epoch 2: [32640/48000 (68%)]\tLoss: 0.374927\n",
      "Training epoch 2: [33280/48000 (69%)]\tLoss: 0.288958\n",
      "Training epoch 2: [33920/48000 (71%)]\tLoss: 0.330063\n",
      "Training epoch 2: [34560/48000 (72%)]\tLoss: 0.440255\n",
      "Training epoch 2: [35200/48000 (73%)]\tLoss: 0.394803\n",
      "Training epoch 2: [35840/48000 (75%)]\tLoss: 0.370912\n",
      "Training epoch 2: [36480/48000 (76%)]\tLoss: 0.395339\n",
      "Training epoch 2: [37120/48000 (77%)]\tLoss: 0.336711\n",
      "Training epoch 2: [37760/48000 (79%)]\tLoss: 0.132067\n",
      "Training epoch 2: [38400/48000 (80%)]\tLoss: 0.500595\n",
      "Training epoch 2: [39040/48000 (81%)]\tLoss: 0.384922\n",
      "Training epoch 2: [39680/48000 (83%)]\tLoss: 0.339022\n",
      "Training epoch 2: [40320/48000 (84%)]\tLoss: 0.360643\n",
      "Training epoch 2: [40960/48000 (85%)]\tLoss: 0.260087\n",
      "Training epoch 2: [41600/48000 (87%)]\tLoss: 0.330205\n",
      "Training epoch 2: [42240/48000 (88%)]\tLoss: 0.303809\n",
      "Training epoch 2: [42880/48000 (89%)]\tLoss: 0.524390\n",
      "Training epoch 2: [43520/48000 (91%)]\tLoss: 0.308371\n",
      "Training epoch 2: [44160/48000 (92%)]\tLoss: 0.481989\n",
      "Training epoch 2: [44800/48000 (93%)]\tLoss: 0.271023\n",
      "Training epoch 2: [45440/48000 (95%)]\tLoss: 0.351172\n",
      "Training epoch 2: [46080/48000 (96%)]\tLoss: 0.277599\n",
      "Training epoch 2: [46720/48000 (97%)]\tLoss: 0.277257\n",
      "Training epoch 2: [47360/48000 (99%)]\tLoss: 0.455651\n",
      "tensor(0.3014)\n",
      "\n",
      "Eval: Average loss: 0.3014,\tAccuracy: 10720/12000 (89%)\n",
      "Training epoch 3: [0/48000 (0%)]\tLoss: 0.302598\n",
      "Training epoch 3: [640/48000 (1%)]\tLoss: 0.403005\n",
      "Training epoch 3: [1280/48000 (3%)]\tLoss: 0.353116\n",
      "Training epoch 3: [1920/48000 (4%)]\tLoss: 0.254056\n",
      "Training epoch 3: [2560/48000 (5%)]\tLoss: 0.245339\n",
      "Training epoch 3: [3200/48000 (7%)]\tLoss: 0.391666\n",
      "Training epoch 3: [3840/48000 (8%)]\tLoss: 0.216305\n",
      "Training epoch 3: [4480/48000 (9%)]\tLoss: 0.255036\n",
      "Training epoch 3: [5120/48000 (11%)]\tLoss: 0.466556\n",
      "Training epoch 3: [5760/48000 (12%)]\tLoss: 0.404251\n",
      "Training epoch 3: [6400/48000 (13%)]\tLoss: 0.293348\n",
      "Training epoch 3: [7040/48000 (15%)]\tLoss: 0.263603\n",
      "Training epoch 3: [7680/48000 (16%)]\tLoss: 0.338767\n",
      "Training epoch 3: [8320/48000 (17%)]\tLoss: 0.201166\n",
      "Training epoch 3: [8960/48000 (19%)]\tLoss: 0.306239\n",
      "Training epoch 3: [9600/48000 (20%)]\tLoss: 0.247091\n",
      "Training epoch 3: [10240/48000 (21%)]\tLoss: 0.290296\n",
      "Training epoch 3: [10880/48000 (23%)]\tLoss: 0.566478\n",
      "Training epoch 3: [11520/48000 (24%)]\tLoss: 0.164801\n",
      "Training epoch 3: [12160/48000 (25%)]\tLoss: 0.449787\n",
      "Training epoch 3: [12800/48000 (27%)]\tLoss: 0.255851\n",
      "Training epoch 3: [13440/48000 (28%)]\tLoss: 0.686641\n",
      "Training epoch 3: [14080/48000 (29%)]\tLoss: 0.351046\n",
      "Training epoch 3: [14720/48000 (31%)]\tLoss: 0.263128\n",
      "Training epoch 3: [15360/48000 (32%)]\tLoss: 0.358927\n",
      "Training epoch 3: [16000/48000 (33%)]\tLoss: 0.303075\n",
      "Training epoch 3: [16640/48000 (35%)]\tLoss: 0.356894\n",
      "Training epoch 3: [17280/48000 (36%)]\tLoss: 0.347993\n",
      "Training epoch 3: [17920/48000 (37%)]\tLoss: 0.299491\n",
      "Training epoch 3: [18560/48000 (39%)]\tLoss: 0.163028\n",
      "Training epoch 3: [19200/48000 (40%)]\tLoss: 0.280592\n",
      "Training epoch 3: [19840/48000 (41%)]\tLoss: 0.466076\n",
      "Training epoch 3: [20480/48000 (43%)]\tLoss: 0.273177\n",
      "Training epoch 3: [21120/48000 (44%)]\tLoss: 0.340949\n",
      "Training epoch 3: [21760/48000 (45%)]\tLoss: 0.249401\n",
      "Training epoch 3: [22400/48000 (47%)]\tLoss: 0.443843\n",
      "Training epoch 3: [23040/48000 (48%)]\tLoss: 0.262124\n",
      "Training epoch 3: [23680/48000 (49%)]\tLoss: 0.197522\n",
      "Training epoch 3: [24320/48000 (51%)]\tLoss: 0.221599\n",
      "Training epoch 3: [24960/48000 (52%)]\tLoss: 0.323329\n",
      "Training epoch 3: [25600/48000 (53%)]\tLoss: 0.381224\n",
      "Training epoch 3: [26240/48000 (55%)]\tLoss: 0.338046\n",
      "Training epoch 3: [26880/48000 (56%)]\tLoss: 0.331806\n",
      "Training epoch 3: [27520/48000 (57%)]\tLoss: 0.437924\n",
      "Training epoch 3: [28160/48000 (59%)]\tLoss: 0.234630\n",
      "Training epoch 3: [28800/48000 (60%)]\tLoss: 0.318715\n",
      "Training epoch 3: [29440/48000 (61%)]\tLoss: 0.304357\n",
      "Training epoch 3: [30080/48000 (63%)]\tLoss: 0.354763\n",
      "Training epoch 3: [30720/48000 (64%)]\tLoss: 0.426975\n",
      "Training epoch 3: [31360/48000 (65%)]\tLoss: 0.279597\n",
      "Training epoch 3: [32000/48000 (67%)]\tLoss: 0.271186\n",
      "Training epoch 3: [32640/48000 (68%)]\tLoss: 0.185068\n",
      "Training epoch 3: [33280/48000 (69%)]\tLoss: 0.281242\n",
      "Training epoch 3: [33920/48000 (71%)]\tLoss: 0.252468\n",
      "Training epoch 3: [34560/48000 (72%)]\tLoss: 0.260897\n",
      "Training epoch 3: [35200/48000 (73%)]\tLoss: 0.160264\n",
      "Training epoch 3: [35840/48000 (75%)]\tLoss: 0.352152\n",
      "Training epoch 3: [36480/48000 (76%)]\tLoss: 0.172028\n",
      "Training epoch 3: [37120/48000 (77%)]\tLoss: 0.329996\n",
      "Training epoch 3: [37760/48000 (79%)]\tLoss: 0.353713\n",
      "Training epoch 3: [38400/48000 (80%)]\tLoss: 0.417290\n",
      "Training epoch 3: [39040/48000 (81%)]\tLoss: 0.297156\n",
      "Training epoch 3: [39680/48000 (83%)]\tLoss: 0.467796\n",
      "Training epoch 3: [40320/48000 (84%)]\tLoss: 0.299287\n",
      "Training epoch 3: [40960/48000 (85%)]\tLoss: 0.294786\n",
      "Training epoch 3: [41600/48000 (87%)]\tLoss: 0.337037\n",
      "Training epoch 3: [42240/48000 (88%)]\tLoss: 0.224385\n",
      "Training epoch 3: [42880/48000 (89%)]\tLoss: 0.173146\n",
      "Training epoch 3: [43520/48000 (91%)]\tLoss: 0.320495\n",
      "Training epoch 3: [44160/48000 (92%)]\tLoss: 0.167168\n",
      "Training epoch 3: [44800/48000 (93%)]\tLoss: 0.292455\n",
      "Training epoch 3: [45440/48000 (95%)]\tLoss: 0.275874\n",
      "Training epoch 3: [46080/48000 (96%)]\tLoss: 0.389693\n",
      "Training epoch 3: [46720/48000 (97%)]\tLoss: 0.326380\n",
      "Training epoch 3: [47360/48000 (99%)]\tLoss: 0.375638\n",
      "tensor(0.2987)\n",
      "\n",
      "Eval: Average loss: 0.2987,\tAccuracy: 10714/12000 (89%)\n",
      "Training epoch 4: [0/48000 (0%)]\tLoss: 0.274471\n",
      "Training epoch 4: [640/48000 (1%)]\tLoss: 0.393371\n",
      "Training epoch 4: [1280/48000 (3%)]\tLoss: 0.247293\n",
      "Training epoch 4: [1920/48000 (4%)]\tLoss: 0.315885\n",
      "Training epoch 4: [2560/48000 (5%)]\tLoss: 0.226842\n",
      "Training epoch 4: [3200/48000 (7%)]\tLoss: 0.278174\n",
      "Training epoch 4: [3840/48000 (8%)]\tLoss: 0.369730\n",
      "Training epoch 4: [4480/48000 (9%)]\tLoss: 0.245319\n",
      "Training epoch 4: [5120/48000 (11%)]\tLoss: 0.225374\n",
      "Training epoch 4: [5760/48000 (12%)]\tLoss: 0.221364\n",
      "Training epoch 4: [6400/48000 (13%)]\tLoss: 0.303755\n",
      "Training epoch 4: [7040/48000 (15%)]\tLoss: 0.559565\n",
      "Training epoch 4: [7680/48000 (16%)]\tLoss: 0.423198\n",
      "Training epoch 4: [8320/48000 (17%)]\tLoss: 0.268791\n",
      "Training epoch 4: [8960/48000 (19%)]\tLoss: 0.240912\n",
      "Training epoch 4: [9600/48000 (20%)]\tLoss: 0.174689\n",
      "Training epoch 4: [10240/48000 (21%)]\tLoss: 0.283325\n",
      "Training epoch 4: [10880/48000 (23%)]\tLoss: 0.268653\n",
      "Training epoch 4: [11520/48000 (24%)]\tLoss: 0.373197\n",
      "Training epoch 4: [12160/48000 (25%)]\tLoss: 0.647600\n",
      "Training epoch 4: [12800/48000 (27%)]\tLoss: 0.328040\n",
      "Training epoch 4: [13440/48000 (28%)]\tLoss: 0.244953\n",
      "Training epoch 4: [14080/48000 (29%)]\tLoss: 0.197761\n",
      "Training epoch 4: [14720/48000 (31%)]\tLoss: 0.216172\n",
      "Training epoch 4: [15360/48000 (32%)]\tLoss: 0.395382\n",
      "Training epoch 4: [16000/48000 (33%)]\tLoss: 0.256774\n",
      "Training epoch 4: [16640/48000 (35%)]\tLoss: 0.269973\n",
      "Training epoch 4: [17280/48000 (36%)]\tLoss: 0.210924\n",
      "Training epoch 4: [17920/48000 (37%)]\tLoss: 0.342727\n",
      "Training epoch 4: [18560/48000 (39%)]\tLoss: 0.337839\n",
      "Training epoch 4: [19200/48000 (40%)]\tLoss: 0.248344\n",
      "Training epoch 4: [19840/48000 (41%)]\tLoss: 0.310542\n",
      "Training epoch 4: [20480/48000 (43%)]\tLoss: 0.281845\n",
      "Training epoch 4: [21120/48000 (44%)]\tLoss: 0.208285\n",
      "Training epoch 4: [21760/48000 (45%)]\tLoss: 0.296361\n",
      "Training epoch 4: [22400/48000 (47%)]\tLoss: 0.458965\n",
      "Training epoch 4: [23040/48000 (48%)]\tLoss: 0.412247\n",
      "Training epoch 4: [23680/48000 (49%)]\tLoss: 0.382473\n",
      "Training epoch 4: [24320/48000 (51%)]\tLoss: 0.289594\n",
      "Training epoch 4: [24960/48000 (52%)]\tLoss: 0.346547\n",
      "Training epoch 4: [25600/48000 (53%)]\tLoss: 0.330327\n",
      "Training epoch 4: [26240/48000 (55%)]\tLoss: 0.427486\n",
      "Training epoch 4: [26880/48000 (56%)]\tLoss: 0.323690\n",
      "Training epoch 4: [27520/48000 (57%)]\tLoss: 0.329272\n",
      "Training epoch 4: [28160/48000 (59%)]\tLoss: 0.193449\n",
      "Training epoch 4: [28800/48000 (60%)]\tLoss: 0.252453\n",
      "Training epoch 4: [29440/48000 (61%)]\tLoss: 0.279381\n",
      "Training epoch 4: [30080/48000 (63%)]\tLoss: 0.345648\n",
      "Training epoch 4: [30720/48000 (64%)]\tLoss: 0.274137\n",
      "Training epoch 4: [31360/48000 (65%)]\tLoss: 0.451319\n",
      "Training epoch 4: [32000/48000 (67%)]\tLoss: 0.135032\n",
      "Training epoch 4: [32640/48000 (68%)]\tLoss: 0.209067\n",
      "Training epoch 4: [33280/48000 (69%)]\tLoss: 0.231928\n",
      "Training epoch 4: [33920/48000 (71%)]\tLoss: 0.228653\n",
      "Training epoch 4: [34560/48000 (72%)]\tLoss: 0.537477\n",
      "Training epoch 4: [35200/48000 (73%)]\tLoss: 0.203514\n",
      "Training epoch 4: [35840/48000 (75%)]\tLoss: 0.162437\n",
      "Training epoch 4: [36480/48000 (76%)]\tLoss: 0.313341\n",
      "Training epoch 4: [37120/48000 (77%)]\tLoss: 0.259534\n",
      "Training epoch 4: [37760/48000 (79%)]\tLoss: 0.284091\n",
      "Training epoch 4: [38400/48000 (80%)]\tLoss: 0.419391\n",
      "Training epoch 4: [39040/48000 (81%)]\tLoss: 0.331907\n",
      "Training epoch 4: [39680/48000 (83%)]\tLoss: 0.274842\n",
      "Training epoch 4: [40320/48000 (84%)]\tLoss: 0.182201\n",
      "Training epoch 4: [40960/48000 (85%)]\tLoss: 0.321943\n",
      "Training epoch 4: [41600/48000 (87%)]\tLoss: 0.310342\n",
      "Training epoch 4: [42240/48000 (88%)]\tLoss: 0.306153\n",
      "Training epoch 4: [42880/48000 (89%)]\tLoss: 0.281273\n",
      "Training epoch 4: [43520/48000 (91%)]\tLoss: 0.266581\n",
      "Training epoch 4: [44160/48000 (92%)]\tLoss: 0.248676\n",
      "Training epoch 4: [44800/48000 (93%)]\tLoss: 0.237684\n",
      "Training epoch 4: [45440/48000 (95%)]\tLoss: 0.215242\n",
      "Training epoch 4: [46080/48000 (96%)]\tLoss: 0.336734\n",
      "Training epoch 4: [46720/48000 (97%)]\tLoss: 0.244203\n",
      "Training epoch 4: [47360/48000 (99%)]\tLoss: 0.098789\n",
      "tensor(0.2965)\n",
      "\n",
      "Eval: Average loss: 0.2965,\tAccuracy: 10716/12000 (89%)\n",
      "Training epoch 5: [0/48000 (0%)]\tLoss: 0.407510\n",
      "Training epoch 5: [640/48000 (1%)]\tLoss: 0.213642\n",
      "Training epoch 5: [1280/48000 (3%)]\tLoss: 0.423894\n",
      "Training epoch 5: [1920/48000 (4%)]\tLoss: 0.227335\n",
      "Training epoch 5: [2560/48000 (5%)]\tLoss: 0.210257\n",
      "Training epoch 5: [3200/48000 (7%)]\tLoss: 0.264695\n",
      "Training epoch 5: [3840/48000 (8%)]\tLoss: 0.311907\n",
      "Training epoch 5: [4480/48000 (9%)]\tLoss: 0.337117\n",
      "Training epoch 5: [5120/48000 (11%)]\tLoss: 0.343680\n",
      "Training epoch 5: [5760/48000 (12%)]\tLoss: 0.282009\n",
      "Training epoch 5: [6400/48000 (13%)]\tLoss: 0.354548\n",
      "Training epoch 5: [7040/48000 (15%)]\tLoss: 0.315739\n",
      "Training epoch 5: [7680/48000 (16%)]\tLoss: 0.335554\n",
      "Training epoch 5: [8320/48000 (17%)]\tLoss: 0.250438\n",
      "Training epoch 5: [8960/48000 (19%)]\tLoss: 0.444518\n",
      "Training epoch 5: [9600/48000 (20%)]\tLoss: 0.462377\n",
      "Training epoch 5: [10240/48000 (21%)]\tLoss: 0.327254\n",
      "Training epoch 5: [10880/48000 (23%)]\tLoss: 0.274444\n",
      "Training epoch 5: [11520/48000 (24%)]\tLoss: 0.254940\n",
      "Training epoch 5: [12160/48000 (25%)]\tLoss: 0.426595\n",
      "Training epoch 5: [12800/48000 (27%)]\tLoss: 0.350141\n",
      "Training epoch 5: [13440/48000 (28%)]\tLoss: 0.262890\n",
      "Training epoch 5: [14080/48000 (29%)]\tLoss: 0.448009\n",
      "Training epoch 5: [14720/48000 (31%)]\tLoss: 0.176133\n",
      "Training epoch 5: [15360/48000 (32%)]\tLoss: 0.259883\n",
      "Training epoch 5: [16000/48000 (33%)]\tLoss: 0.271080\n",
      "Training epoch 5: [16640/48000 (35%)]\tLoss: 0.261138\n",
      "Training epoch 5: [17280/48000 (36%)]\tLoss: 0.462855\n",
      "Training epoch 5: [17920/48000 (37%)]\tLoss: 0.289706\n",
      "Training epoch 5: [18560/48000 (39%)]\tLoss: 0.257239\n",
      "Training epoch 5: [19200/48000 (40%)]\tLoss: 0.248383\n",
      "Training epoch 5: [19840/48000 (41%)]\tLoss: 0.242083\n",
      "Training epoch 5: [20480/48000 (43%)]\tLoss: 0.221571\n",
      "Training epoch 5: [21120/48000 (44%)]\tLoss: 0.398380\n",
      "Training epoch 5: [21760/48000 (45%)]\tLoss: 0.370667\n",
      "Training epoch 5: [22400/48000 (47%)]\tLoss: 0.288586\n",
      "Training epoch 5: [23040/48000 (48%)]\tLoss: 0.419091\n",
      "Training epoch 5: [23680/48000 (49%)]\tLoss: 0.179525\n",
      "Training epoch 5: [24320/48000 (51%)]\tLoss: 0.415635\n",
      "Training epoch 5: [24960/48000 (52%)]\tLoss: 0.356331\n",
      "Training epoch 5: [25600/48000 (53%)]\tLoss: 0.252016\n",
      "Training epoch 5: [26240/48000 (55%)]\tLoss: 0.430597\n",
      "Training epoch 5: [26880/48000 (56%)]\tLoss: 0.399093\n",
      "Training epoch 5: [27520/48000 (57%)]\tLoss: 0.166010\n",
      "Training epoch 5: [28160/48000 (59%)]\tLoss: 0.178723\n",
      "Training epoch 5: [28800/48000 (60%)]\tLoss: 0.296396\n",
      "Training epoch 5: [29440/48000 (61%)]\tLoss: 0.356052\n",
      "Training epoch 5: [30080/48000 (63%)]\tLoss: 0.342435\n",
      "Training epoch 5: [30720/48000 (64%)]\tLoss: 0.257200\n",
      "Training epoch 5: [31360/48000 (65%)]\tLoss: 0.335950\n",
      "Training epoch 5: [32000/48000 (67%)]\tLoss: 0.261770\n",
      "Training epoch 5: [32640/48000 (68%)]\tLoss: 0.234239\n",
      "Training epoch 5: [33280/48000 (69%)]\tLoss: 0.314472\n",
      "Training epoch 5: [33920/48000 (71%)]\tLoss: 0.247407\n",
      "Training epoch 5: [34560/48000 (72%)]\tLoss: 0.284890\n",
      "Training epoch 5: [35200/48000 (73%)]\tLoss: 0.176944\n",
      "Training epoch 5: [35840/48000 (75%)]\tLoss: 0.252437\n",
      "Training epoch 5: [36480/48000 (76%)]\tLoss: 0.285209\n",
      "Training epoch 5: [37120/48000 (77%)]\tLoss: 0.298008\n",
      "Training epoch 5: [37760/48000 (79%)]\tLoss: 0.412726\n",
      "Training epoch 5: [38400/48000 (80%)]\tLoss: 0.602143\n",
      "Training epoch 5: [39040/48000 (81%)]\tLoss: 0.263314\n",
      "Training epoch 5: [39680/48000 (83%)]\tLoss: 0.226933\n",
      "Training epoch 5: [40320/48000 (84%)]\tLoss: 0.244816\n",
      "Training epoch 5: [40960/48000 (85%)]\tLoss: 0.322655\n",
      "Training epoch 5: [41600/48000 (87%)]\tLoss: 0.149360\n",
      "Training epoch 5: [42240/48000 (88%)]\tLoss: 0.265623\n",
      "Training epoch 5: [42880/48000 (89%)]\tLoss: 0.274297\n",
      "Training epoch 5: [43520/48000 (91%)]\tLoss: 0.429765\n",
      "Training epoch 5: [44160/48000 (92%)]\tLoss: 0.237262\n",
      "Training epoch 5: [44800/48000 (93%)]\tLoss: 0.279905\n",
      "Training epoch 5: [45440/48000 (95%)]\tLoss: 0.339956\n",
      "Training epoch 5: [46080/48000 (96%)]\tLoss: 0.320171\n",
      "Training epoch 5: [46720/48000 (97%)]\tLoss: 0.293961\n",
      "Training epoch 5: [47360/48000 (99%)]\tLoss: 0.313765\n",
      "tensor(0.2886)\n",
      "\n",
      "Eval: Average loss: 0.2886,\tAccuracy: 10725/12000 (89%)\n"
     ]
    }
   ],
   "source": [
    "epochs=5\n",
    "for epoch in range(1, epochs+1):\n",
    "    train(epoch)\n",
    "    eval()"
   ]
  },
  {
   "cell_type": "code",
   "execution_count": 36,
   "id": "b79b8c8c",
   "metadata": {
    "executionInfo": {
     "elapsed": 13242,
     "status": "aborted",
     "timestamp": 1740079523284,
     "user": {
      "displayName": "Daniel Yelamos",
      "userId": "15488581616951920799"
     },
     "user_tz": -60
    },
    "id": "b79b8c8c"
   },
   "outputs": [
    {
     "data": {
      "text/plain": [
       "Text(0.5, 1.0, 'Train and Evaluation loss during epochs')"
      ]
     },
     "execution_count": 36,
     "metadata": {},
     "output_type": "execute_result"
    },
    {
     "data": {
      "image/png": "[encoded data removed]",
      "text/plain": [
       "<Figure size 640x480 with 1 Axes>"
      ]
     },
     "metadata": {},
     "output_type": "display_data"
    }
   ],
   "source": [
    "X = list(range(1, len(eval_losses)+1))\n",
    "\n",
    "plt.plot(X,train_losses)\n",
    "plt.plot(X,eval_losses)\n",
    "plt.xlabel(\"Epoch\")\n",
    "plt.ylabel(\"Loss\")\n",
    "plt.title(\"Train and Evaluation loss during epochs\")"
   ]
  },
  {
   "cell_type": "markdown",
   "id": "0859614c-2684-49a2-9c92-7685f033364e",
   "metadata": {},
   "source": [
    "### Overfitting fixed when adding dropouts, lower evalutation losses. Probably same accuracy at 88% even adding two conv layers and one more 1d layer. Keep in mind I also added another max pooling."
   ]
  },
  {
   "cell_type": "code",
   "execution_count": 37,
   "id": "696c67e5",
   "metadata": {
    "executionInfo": {
     "elapsed": 13242,
     "status": "aborted",
     "timestamp": 1740079523285,
     "user": {
      "displayName": "Daniel Yelamos",
      "userId": "15488581616951920799"
     },
     "user_tz": -60
    },
    "id": "696c67e5"
   },
   "outputs": [
    {
     "data": {
      "text/plain": [
       "Net(\n",
       "  (conv1): Conv2d(1, 32, kernel_size=(3, 3), stride=(1, 1), padding=(1, 1))\n",
       "  (conv2): Conv2d(32, 64, kernel_size=(3, 3), stride=(1, 1), padding=(1, 1))\n",
       "  (conv3): Conv2d(64, 128, kernel_size=(3, 3), stride=(1, 1), padding=(1, 1))\n",
       "  (conv4): Conv2d(128, 256, kernel_size=(3, 3), stride=(1, 1), padding=(1, 1))\n",
       "  (fc1): Linear(in_features=12544, out_features=512, bias=True)\n",
       "  (fc2): Linear(in_features=512, out_features=128, bias=True)\n",
       "  (fc3): Linear(in_features=128, out_features=10, bias=True)\n",
       "  (pool): MaxPool2d(kernel_size=2, stride=2, padding=0, dilation=1, ceil_mode=False)\n",
       "  (dropout): Dropout(p=0.5, inplace=False)\n",
       ")"
      ]
     },
     "execution_count": 37,
     "metadata": {},
     "output_type": "execute_result"
    }
   ],
   "source": [
    "fmodel.eval()"
   ]
  },
  {
   "cell_type": "code",
   "execution_count": 38,
   "id": "9ae609a8",
   "metadata": {
    "executionInfo": {
     "elapsed": 13242,
     "status": "aborted",
     "timestamp": 1740079523286,
     "user": {
      "displayName": "Daniel Yelamos",
      "userId": "15488581616951920799"
     },
     "user_tz": -60
    },
    "id": "9ae609a8"
   },
   "outputs": [],
   "source": [
    "def test():\n",
    "\n",
    "    prediction_list = []\n",
    "    test_losses = []\n",
    "    correct = 0\n",
    "    test_loss = 0\n",
    "\n",
    "    fmodel.eval()\n",
    "\n",
    "    with torch.no_grad():\n",
    "        for data, target in test_loader:\n",
    "            output = fmodel(data)\n",
    "#             prediction = output.max(1 , keepdim = True)[1]\n",
    "            prediction = output.argmax(dim=1, keepdim=True).squeeze()\n",
    "            prediction_list.append(prediction)\n",
    "            correct +=(prediction == target).sum().item()\n",
    "\n",
    "            #loss summatory for Average loss\n",
    "            test_loss += criterion(output, target)\n",
    "\n",
    "        accuracy = correct/10000\n",
    "        test_loss /= len(test_loader)\n",
    "        test_losses.append(test_loss)\n",
    "\n",
    "        print(\"/nEval: Average loss: {:.4f},\\tAccuracy: {}/{} ({:.0f}%)\".format(sum(test_losses), correct, 10000, accuracy * 100))\n"
   ]
  },
  {
   "cell_type": "code",
   "execution_count": 34,
   "id": "10175c08",
   "metadata": {
    "executionInfo": {
     "elapsed": 13240,
     "status": "aborted",
     "timestamp": 1740079523286,
     "user": {
      "displayName": "Daniel Yelamos",
      "userId": "15488581616951920799"
     },
     "user_tz": -60
    },
    "id": "10175c08"
   },
   "outputs": [
    {
     "name": "stdout",
     "output_type": "stream",
     "text": [
      "/nEval: Average loss: 0.3301,\tAccuracy: 8781/10000 (88%)\n"
     ]
    }
   ],
   "source": [
    "test()"
   ]
  },
  {
   "cell_type": "markdown",
   "id": "28af9f42-c068-4016-85df-c9849a28af6d",
   "metadata": {
    "executionInfo": {
     "elapsed": 13241,
     "status": "aborted",
     "timestamp": 1740079523287,
     "user": {
      "displayName": "Daniel Yelamos",
      "userId": "15488581616951920799"
     },
     "user_tz": -60
    },
    "id": "abed86e6"
   },
   "source": [
    "# **Things to include**\n",
    "## - Batch normalization\n",
    "## - Image transformation\n",
    "## - Leaky Relu or Elu activation functions\n",
    "## - early stoppage"
   ]
  },
  {
   "cell_type": "code",
   "execution_count": null,
   "id": "6346c82b-4683-4f90-a986-095d6ba4a851",
   "metadata": {},
   "outputs": [],
   "source": []
  },
  {
   "cell_type": "code",
   "execution_count": null,
   "id": "fb8726c5-1978-421c-ad13-7ab66b30d900",
   "metadata": {},
   "outputs": [],
   "source": []
  },
  {
   "cell_type": "code",
   "execution_count": null,
   "id": "90fa6c9f-2f35-4974-894a-6b7abe2c8dd3",
   "metadata": {},
   "outputs": [],
   "source": []
  }
 ],
 "metadata": {
  "colab": {
   "provenance": []
  },
  "kernelspec": {
   "display_name": "Python 3 (ipykernel)",
   "language": "python",
   "name": "python3"
  },
  "language_info": {
   "codemirror_mode": {
    "name": "ipython",
    "version": 3
   },
   "file_extension": ".py",
   "mimetype": "text/x-python",
   "name": "python",
   "nbconvert_exporter": "python",
   "pygments_lexer": "ipython3",
   "version": "3.12.7"
  }
 },
 "nbformat": 4,
 "nbformat_minor": 5
}
